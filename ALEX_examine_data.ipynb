{
 "cells": [
  {
   "cell_type": "code",
   "execution_count": 1,
   "metadata": {},
   "outputs": [],
   "source": [
    "import pickle\n",
    "import numpy as np\n",
    "import pandas as pd\n",
    "import csv\n"
   ]
  },
  {
   "cell_type": "code",
   "execution_count": 14,
   "metadata": {},
   "outputs": [],
   "source": [
    "#df = pd.read_csv(\"/Users/alexandra/Documents/data/tapas/tapas_100_000_simra_format.csv\", nrows = 100000)\n",
    "#df.to_csv(\"/Users/alexandra/Documents/data/tapas/tapas_100_000lines_simra_format.csv\", index=False)"
   ]
  },
  {
   "cell_type": "code",
   "execution_count": 2,
   "metadata": {},
   "outputs": [],
   "source": [
    "used_words = pickle.load(open(\"output/simra/no_dp/cell_1000/used_words_1000_epsNone.pickle\", \"rb\"))"
   ]
  },
  {
   "cell_type": "code",
   "execution_count": 3,
   "metadata": {},
   "outputs": [],
   "source": [
    "#traces = pickle.load(open(\"output/generated_traces-cell_1000-eps_100000.00_10.pickle\", \"rb\"))"
   ]
  },
  {
   "cell_type": "code",
   "execution_count": 4,
   "metadata": {},
   "outputs": [],
   "source": [
    "orig_init = pickle.load(open(\"/Users/alexandra/Documents/GitHub/DP-Loc/output/simra/no_dp/cell_1000/orig_init_data-cell_1000.pickle\", \"rb\"))\n"
   ]
  },
  {
   "cell_type": "code",
   "execution_count": 5,
   "metadata": {},
   "outputs": [
    {
     "data": {
      "text/plain": [
       "array([[148., 124.,  11.],\n",
       "       [ 14.,  61.,  19.],\n",
       "       [ 58.,  35.,  18.],\n",
       "       ...,\n",
       "       [183.,  65.,  10.],\n",
       "       [ 47., 191.,  14.],\n",
       "       [  4., 111.,  18.]], dtype=float32)"
      ]
     },
     "execution_count": 5,
     "metadata": {},
     "output_type": "execute_result"
    }
   ],
   "source": [
    "orig_init"
   ]
  },
  {
   "cell_type": "code",
   "execution_count": 3,
   "metadata": {},
   "outputs": [],
   "source": [
    "traces = pickle.load(open(\"/Users/alexandra/Documents/GitHub/DP-Loc/output/Geolife/EPS_NONE/generated_traces-cell_632-eps_5.00_100.pickle\", \"rb\"))"
   ]
  },
  {
   "cell_type": "code",
   "execution_count": 6,
   "metadata": {},
   "outputs": [],
   "source": [
    "traces = pickle.load(open(\"/Users/alexandra/Documents/GitHub/DP-Loc/output/simra/no_dp/cell_1000/generated_traces-cell_1000-eps_None_100.pickle\", \"rb\"))"
   ]
  },
  {
   "cell_type": "code",
   "execution_count": 4,
   "metadata": {},
   "outputs": [
    {
     "name": "stderr",
     "output_type": "stream",
     "text": [
      "/var/folders/m7/jb7xk8h91p541g43zv2r8l740000gn/T/ipykernel_14078/127097865.py:1: VisibleDeprecationWarning: Creating an ndarray from ragged nested sequences (which is a list-or-tuple of lists-or-tuples-or ndarrays with different lengths or shapes) is deprecated. If you meant to do this, you must specify 'dtype=object' when creating the ndarray.\n",
      "  seq = np.array(traces)[:,2]\n"
     ]
    }
   ],
   "source": [
    "seq = np.array(traces)[:,2]\n"
   ]
  },
  {
   "cell_type": "code",
   "execution_count": 5,
   "metadata": {},
   "outputs": [],
   "source": [
    "unique_values, counts = np.unique([len(np.unique(l)) for l in seq], return_counts = True)"
   ]
  },
  {
   "cell_type": "code",
   "execution_count": 6,
   "metadata": {},
   "outputs": [
    {
     "data": {
      "text/plain": [
       "array([ 2,  3,  4,  5,  6,  7,  8,  9, 10])"
      ]
     },
     "execution_count": 6,
     "metadata": {},
     "output_type": "execute_result"
    }
   ],
   "source": [
    "unique_values"
   ]
  },
  {
   "cell_type": "code",
   "execution_count": 7,
   "metadata": {},
   "outputs": [
    {
     "data": {
      "text/plain": [
       "array([  192, 16157,  5827,  2398,   731,   159,    41,     6,     1])"
      ]
     },
     "execution_count": 7,
     "metadata": {},
     "output_type": "execute_result"
    }
   ],
   "source": [
    "counts"
   ]
  },
  {
   "cell_type": "code",
   "execution_count": 8,
   "metadata": {},
   "outputs": [
    {
     "data": {
      "text/plain": [
       "32"
      ]
     },
     "execution_count": 8,
     "metadata": {},
     "output_type": "execute_result"
    }
   ],
   "source": [
    "np.array([len(s) for s in seq]).max()"
   ]
  },
  {
   "cell_type": "code",
   "execution_count": 9,
   "metadata": {},
   "outputs": [
    {
     "data": {
      "text/plain": [
       "array([list([1, 1, 60, 60, 290, 290, 290, 290]),\n",
       "       list([75, 75, 117, 117, 117, 290, 290, 290]),\n",
       "       list([111, 111, 181, 181, 181, 181, 290, 290, 290, 290]), ...,\n",
       "       list([3, 3, 78, 78, 256, 256, 256, 256]),\n",
       "       list([149, 149, 347, 347, 347, 347, 417, 417, 417, 417]),\n",
       "       list([261, 261, 261, 261, 324, 324, 53, 53, 53, 53, 31, 31, 31, 31])],\n",
       "      dtype=object)"
      ]
     },
     "execution_count": 9,
     "metadata": {},
     "output_type": "execute_result"
    }
   ],
   "source": [
    "# output traces\n",
    "seq"
   ]
  },
  {
   "cell_type": "code",
   "execution_count": 10,
   "metadata": {},
   "outputs": [
    {
     "name": "stderr",
     "output_type": "stream",
     "text": [
      "2022-12-19 17:25:59.594181: I tensorflow/core/platform/cpu_feature_guard.cc:193] This TensorFlow binary is optimized with oneAPI Deep Neural Network Library (oneDNN) to use the following CPU instructions in performance-critical operations:  AVX2 AVX512F AVX512_VNNI FMA\n",
      "To enable them in other operations, rebuild TensorFlow with the appropriate compiler flags.\n"
     ]
    }
   ],
   "source": [
    "from utils import *\n",
    "cnf = load_cfg(\"cfg/cfg_general_Simra.json\")\n",
    "\n",
    "# create a projector class, as in the algorithm\n",
    "projector = Projector(cnf.MIN_X, cnf.MIN_Y, cnf.MAX_X, cnf.MAX_Y)\n",
    "\n",
    "MAP_HEIGHT = int(ceil(projector.toProjected(cnf.MAX_X, cnf.MAX_Y)[1] / cnf.CELL_SIZE))\n",
    "MAP_WIDTH = int(ceil(projector.toProjected(cnf.MAX_X, cnf.MAX_Y)[0] / cnf.CELL_SIZE))\n",
    "\n",
    "# dicts for conversion as in projector class\n",
    "cells = [(x, y) for x in range(MAP_HEIGHT + 1) for y in range(MAP_WIDTH + 1)]\n",
    "cell2id = dict(zip(cells, range(1, len(cells) + 1)))\n",
    "id2cell = dict(zip(range(1, len(cells) + 1), cells))\n",
    "\n",
    "# you need to get the used words in the algorithm\n",
    "# I added the following line to the preproc.py file in line 170:\n",
    "# pickle.dump(used_words, open(f\"output/simra/used_words_{cnf.CELL_SIZE}_eps{cnf.EPS}.pickle\", \"wb\"))\n",
    "\n",
    "used_words = pickle.load(open(\"/Users/alexandra/Documents/GitHub/DP-Loc/output/simra/used_words_500_eps100000.pickle\", \"rb\"))\n",
    "\n",
    "# dicts for conversion of token and cells\n",
    "cell2token = dict(zip(used_words, range(1, len(used_words) + 1)))\n",
    "token2cell = {v: k for k, v in cell2token.items()}"
   ]
  },
  {
   "cell_type": "code",
   "execution_count": 11,
   "metadata": {},
   "outputs": [
    {
     "name": "stderr",
     "output_type": "stream",
     "text": [
      "/var/folders/m7/jb7xk8h91p541g43zv2r8l740000gn/T/ipykernel_57239/2868893615.py:3: VisibleDeprecationWarning: Creating an ndarray from ragged nested sequences (which is a list-or-tuple of lists-or-tuples-or ndarrays with different lengths or shapes) is deprecated. If you meant to do this, you must specify 'dtype=object' when creating the ndarray.\n",
      "  seq = np.array(traces)[:,2]\n"
     ]
    }
   ],
   "source": [
    "# get the generated traces\n",
    "#traces = pickle.load(open(\"output/simra/generated_traces-cell_500-eps_100000.00_5.pickle\", \"rb\"))\n",
    "seq = np.array(traces)[:,2]\n",
    "\n",
    "# write these as readable and mapped csv file\n",
    "with open(\"/Users/alexandra/Documents/GitHub/synth_data_evaluation/data/synthetic/dploc/dploc_cell_500_eps_100000.csv\", 'w') as csvfile: \n",
    "    write = csv.writer(csvfile) \n",
    "    write.writerow([\"tid\", \"lng\", \"lat\", \"datetime\"])\n",
    "    counter = 0\n",
    "    for i in range(0, len(traces)-1):\n",
    "        ids = [id2cell[token2cell[cell_id]] for cell_id in traces[i][2]]\n",
    "        coords_projected = [(y*cnf.CELL_SIZE, x*cnf.CELL_SIZE) for x,y in ids]\n",
    "        coords_gps = list(projector.toGPS_list(coords_projected))\n",
    "        for coord_pair in coords_gps:\n",
    "            x, y = coord_pair\n",
    "            write.writerow([i, x, y, traces[i][1]]) #TODO: now the same timestamp for each point in a trajectory is used. Maybe convert this to a timestamp and make it increasing?\n",
    "            counter += 1 \n"
   ]
  },
  {
   "cell_type": "code",
   "execution_count": 12,
   "metadata": {},
   "outputs": [],
   "source": [
    "#words = []\n",
    "#for word_counts in used_words:\n",
    "#    words.append(word_counts[0])"
   ]
  },
  {
   "cell_type": "code",
   "execution_count": 13,
   "metadata": {},
   "outputs": [],
   "source": [
    "ids = []\n",
    "for i in range(0, len(seq)-1):\n",
    "    ids = ids + [token2cell[token] for token in seq[i]]"
   ]
  },
  {
   "cell_type": "code",
   "execution_count": 14,
   "metadata": {},
   "outputs": [],
   "source": [
    "grid_ids_output = pd.Series(ids)"
   ]
  },
  {
   "cell_type": "code",
   "execution_count": 15,
   "metadata": {},
   "outputs": [
    {
     "data": {
      "text/plain": [
       "1375    9211\n",
       "852     2655\n",
       "1024    2039\n",
       "641     1984\n",
       "636     1840\n",
       "694     1342\n",
       "1019    1105\n",
       "844     1023\n",
       "1461     886\n",
       "dtype: int64"
      ]
     },
     "execution_count": 15,
     "metadata": {},
     "output_type": "execute_result"
    }
   ],
   "source": [
    "grid_ids_output.value_counts()[1:10]        #.sort_index().plot(kind=\"bar\")"
   ]
  },
  {
   "cell_type": "code",
   "execution_count": 16,
   "metadata": {},
   "outputs": [
    {
     "name": "stdout",
     "output_type": "stream",
     "text": [
      "Total grams: 394553\n",
      "Total traces: 21648\n"
     ]
    }
   ],
   "source": [
    "from tables import *\n",
    "\n",
    "h5file = open_file(\"/Users/alexandra/Documents/GitHub/DP-Loc/datasets/simra/mapped_data-304.h5\", mode=\"r\")\n",
    "input_traces = h5file.root.Traces\n",
    "total_grams = sum([len(trace) for trace in input_traces])\n",
    "print(\"Total grams:\", total_grams)\n",
    "print(\"Total traces:\", len(input_traces))\n",
    "#h5file.close()"
   ]
  },
  {
   "cell_type": "code",
   "execution_count": 17,
   "metadata": {},
   "outputs": [
    {
     "data": {
      "text/plain": [
       "21648"
      ]
     },
     "execution_count": 17,
     "metadata": {},
     "output_type": "execute_result"
    }
   ],
   "source": [
    "len(input_traces)"
   ]
  },
  {
   "cell_type": "code",
   "execution_count": 18,
   "metadata": {},
   "outputs": [
    {
     "data": {
      "text/plain": [
       "[[[1025, 1602870240],\n",
       "  [1026, 1602870300],\n",
       "  [1028, 1602870360],\n",
       "  [986, 1602870420],\n",
       "  [945, 1602870480],\n",
       "  [946, 1602870540],\n",
       "  [947, 1602870600],\n",
       "  [948, 1602870660],\n",
       "  [949, 1602870720],\n",
       "  [949, 1602870780],\n",
       "  [950, 1602870840],\n",
       "  [951, 1602870900],\n",
       "  [995, 1602870960],\n",
       "  [995, 1602871020],\n",
       "  [1038, 1602871080],\n",
       "  [1039, 1602871140],\n",
       "  [1040, 1602871200],\n",
       "  [998, 1602871260],\n",
       "  [999, 1602871320],\n",
       "  [957, 1602871380],\n",
       "  [958, 1602871440],\n",
       "  [959, 1602871500],\n",
       "  [961, 1602871560],\n",
       "  [920, 1602871620],\n",
       "  [922, 1602871680],\n",
       "  [922, 1602871740],\n",
       "  [923, 1602871800]],\n",
       " [[493, 1592756640],\n",
       "  [492, 1592756700],\n",
       "  [492, 1592756760],\n",
       "  [491, 1592756820],\n",
       "  [533, 1592756880],\n",
       "  [575, 1592756940],\n",
       "  [617, 1592757000],\n",
       "  [617, 1592757060],\n",
       "  [660, 1592757120],\n",
       "  [702, 1592757180],\n",
       "  [744, 1592757240],\n",
       "  [743, 1592757300],\n",
       "  [784, 1592757360],\n",
       "  [784, 1592757420],\n",
       "  [826, 1592757480],\n",
       "  [826, 1592757540],\n",
       "  [868, 1592757600],\n",
       "  [909, 1592757660],\n",
       "  [951, 1592757720],\n",
       "  [951, 1592757780],\n",
       "  [994, 1592757840],\n",
       "  [994, 1592757900],\n",
       "  [1037, 1592757960],\n",
       "  [1037, 1592758020],\n",
       "  [1079, 1592758080],\n",
       "  [1121, 1592758140],\n",
       "  [1120, 1592758200],\n",
       "  [1120, 1592758260]],\n",
       " [[853, 1603901820],\n",
       "  [854, 1603901880],\n",
       "  [898, 1603901940],\n",
       "  [898, 1603902000],\n",
       "  [899, 1603902060],\n",
       "  [900, 1603902120],\n",
       "  [902, 1603902180],\n",
       "  [903, 1603902240],\n",
       "  [904, 1603902300],\n",
       "  [905, 1603902360],\n",
       "  [863, 1603902420],\n",
       "  [821, 1603902480],\n",
       "  [779, 1603902540],\n",
       "  [779, 1603902600],\n",
       "  [738, 1603902660],\n",
       "  [697, 1603902720],\n",
       "  [655, 1603902780],\n",
       "  [655, 1603902840],\n",
       "  [613, 1603902900],\n",
       "  [571, 1603902960],\n",
       "  [530, 1603903020],\n",
       "  [531, 1603903080],\n",
       "  [532, 1603903140],\n",
       "  [533, 1603903200],\n",
       "  [492, 1603903260],\n",
       "  [493, 1603903320]],\n",
       " [[103, 1564405740],\n",
       "  [145, 1564405800],\n",
       "  [230, 1564405860],\n",
       "  [272, 1564405920],\n",
       "  [314, 1564405980],\n",
       "  [356, 1564406040],\n",
       "  [399, 1564406100],\n",
       "  [441, 1564406160],\n",
       "  [525, 1564406220],\n",
       "  [567, 1564406280],\n",
       "  [610, 1564406340],\n",
       "  [652, 1564406400],\n",
       "  [694, 1564406460],\n",
       "  [694, 1564406520],\n",
       "  [736, 1564406580],\n",
       "  [736, 1564406640],\n",
       "  [779, 1564406700],\n",
       "  [779, 1564406760],\n",
       "  [821, 1564406820],\n",
       "  [863, 1564406880],\n",
       "  [906, 1564406940],\n",
       "  [906, 1564407000],\n",
       "  [948, 1564407060],\n",
       "  [990, 1564407120],\n",
       "  [1031, 1564407180],\n",
       "  [1073, 1564407240],\n",
       "  [1115, 1564407300],\n",
       "  [1158, 1564407360],\n",
       "  [1158, 1564407420],\n",
       "  [1159, 1564407480],\n",
       "  [1201, 1564407540],\n",
       "  [1244, 1564407600],\n",
       "  [1244, 1564407660],\n",
       "  [1287, 1564407720],\n",
       "  [1287, 1564407780],\n",
       "  [1330, 1564407840],\n",
       "  [1372, 1564407900],\n",
       "  [1414, 1564407960],\n",
       "  [1414, 1564408020],\n",
       "  [1456, 1564408080],\n",
       "  [1498, 1564408140],\n",
       "  [1540, 1564408200]],\n",
       " [[848, 1572559980],\n",
       "  [848, 1572560040],\n",
       "  [848, 1572560100],\n",
       "  [806, 1572560160],\n",
       "  [807, 1572560220],\n",
       "  [765, 1572560280],\n",
       "  [765, 1572560340],\n",
       "  [723, 1572560400],\n",
       "  [681, 1572560460],\n",
       "  [639, 1572560520],\n",
       "  [639, 1572560580],\n",
       "  [639, 1572560640],\n",
       "  [639, 1572560700],\n",
       "  [640, 1572560760],\n",
       "  [640, 1572560820],\n",
       "  [641, 1572560880],\n",
       "  [600, 1572560940],\n",
       "  [601, 1572561000],\n",
       "  [601, 1572561060],\n",
       "  [601, 1572561120],\n",
       "  [559, 1572561180],\n",
       "  [560, 1572561240],\n",
       "  [560, 1572561300],\n",
       "  [560, 1572561360],\n",
       "  [560, 1572561420],\n",
       "  [602, 1572561480],\n",
       "  [603, 1572561540],\n",
       "  [604, 1572561600],\n",
       "  [605, 1572561660],\n",
       "  [606, 1572561720]],\n",
       " [[418, 1562486280],\n",
       "  [418, 1562486340],\n",
       "  [460, 1562486400],\n",
       "  [502, 1562486460],\n",
       "  [502, 1562486520],\n",
       "  [545, 1562486580]],\n",
       " [[1120, 1581696240],\n",
       "  [1120, 1581696300],\n",
       "  [1121, 1581696360],\n",
       "  [1121, 1581696420],\n",
       "  [1163, 1581696480],\n",
       "  [1163, 1581696540],\n",
       "  [1206, 1581696600],\n",
       "  [1206, 1581696660],\n",
       "  [1249, 1581696720],\n",
       "  [1291, 1581696780],\n",
       "  [1333, 1581696840]],\n",
       " [[995, 1567008540],\n",
       "  [994, 1567008600],\n",
       "  [993, 1567008660],\n",
       "  [950, 1567008720],\n",
       "  [950, 1567008780],\n",
       "  [950, 1567008840],\n",
       "  [950, 1567008900],\n",
       "  [949, 1567008960],\n",
       "  [949, 1567009020],\n",
       "  [948, 1567009080],\n",
       "  [947, 1567009140],\n",
       "  [947, 1567009200],\n",
       "  [904, 1567009260],\n",
       "  [904, 1567009320],\n",
       "  [903, 1567009380],\n",
       "  [903, 1567009440],\n",
       "  [901, 1567009500],\n",
       "  [900, 1567009560],\n",
       "  [899, 1567009620],\n",
       "  [899, 1567009680],\n",
       "  [898, 1567009740],\n",
       "  [898, 1567009800],\n",
       "  [897, 1567009860],\n",
       "  [896, 1567009920],\n",
       "  [853, 1567009980],\n",
       "  [853, 1567010040],\n",
       "  [852, 1567010100],\n",
       "  [894, 1567010160],\n",
       "  [935, 1567010220],\n",
       "  [976, 1567010280]],\n",
       " [[782, 1563468360],\n",
       "  [739, 1563468420],\n",
       "  [738, 1563468480],\n",
       "  [738, 1563468540],\n",
       "  [653, 1563468600],\n",
       "  [611, 1563468660],\n",
       "  [568, 1563468720],\n",
       "  [526, 1563468780],\n",
       "  [484, 1563468840],\n",
       "  [441, 1563468900],\n",
       "  [399, 1563468960],\n",
       "  [356, 1563469020],\n",
       "  [314, 1563469080],\n",
       "  [272, 1563469140],\n",
       "  [187, 1563469200],\n",
       "  [145, 1563469260]]]"
      ]
     },
     "execution_count": 18,
     "metadata": {},
     "output_type": "execute_result"
    }
   ],
   "source": [
    "input_traces[1:10]"
   ]
  },
  {
   "cell_type": "code",
   "execution_count": 19,
   "metadata": {},
   "outputs": [],
   "source": [
    "import numpy as np\n",
    "trace_length = [len(trace) for trace in input_traces]"
   ]
  },
  {
   "cell_type": "code",
   "execution_count": 20,
   "metadata": {},
   "outputs": [
    {
     "name": "stdout",
     "output_type": "stream",
     "text": [
      "2\n",
      "182\n",
      "18.225840724316335\n",
      "16.0\n"
     ]
    }
   ],
   "source": [
    "print(min(trace_length))\n",
    "print(max(trace_length))\n",
    "print(np.mean(trace_length))\n",
    "print(np.median(trace_length))"
   ]
  },
  {
   "cell_type": "code",
   "execution_count": 21,
   "metadata": {},
   "outputs": [],
   "source": [
    "ids_input = []\n",
    "for i in range(0, len(input_traces)-1):\n",
    "    for j in range(0, len(input_traces[i])-1):    \n",
    "        ids_input.append(input_traces[i][j][0])\n",
    "\n",
    "grid_ids_input = pd.Series(ids_input)"
   ]
  },
  {
   "cell_type": "code",
   "execution_count": 23,
   "metadata": {},
   "outputs": [],
   "source": [
    "h5file.close()"
   ]
  },
  {
   "cell_type": "code",
   "execution_count": 24,
   "metadata": {},
   "outputs": [],
   "source": [
    "# grid_ids_input.value_counts()[1:10]                 #.sort_index().plot(kind=\"bar\")"
   ]
  },
  {
   "cell_type": "code",
   "execution_count": 22,
   "metadata": {},
   "outputs": [],
   "source": [
    "# grid input to coordinates\n",
    "with open(\"/Users/alexandra/Documents/GitHub/synth_data_evaluation/data/synthetic/dploc/simra_input_sampled40_gramsize10_reversed.csv\", 'w') as csvfile: \n",
    "    write = csv.writer(csvfile) \n",
    "    write.writerow([\"tid\", \"lng\", \"lat\"])\n",
    "    for i in range(0, len(input_traces)-1):\n",
    "        ids = [id2cell[cell_id[0]] for cell_id in input_traces[i]]\n",
    "        coords_projected = [(y*cnf.CELL_SIZE, x*cnf.CELL_SIZE) for x,y in ids]\n",
    "        coords_gps = list(projector.toGPS_list(coords_projected))\n",
    "        for coord_pair in coords_gps:\n",
    "            x, y = coord_pair\n",
    "            write.writerow([i, x, y]) "
   ]
  },
  {
   "cell_type": "code",
   "execution_count": 24,
   "metadata": {},
   "outputs": [],
   "source": [
    "# all cords in mapping\n",
    "all_coords_input = [(x*250, y*250) for x,y in cell2id.keys()]\n",
    "all_coords = list(projector.toGPS_list(all_coords_input))"
   ]
  },
  {
   "cell_type": "code",
   "execution_count": 25,
   "metadata": {},
   "outputs": [],
   "source": [
    "import csv\n",
    "with open(\"/Users/alexandra/Documents/GitHub/synth_data_evaluation/data/synthetic/dploc/grid_coords_simra.csv\", 'w') as csvfile: \n",
    "    write = csv.writer(csvfile) \n",
    "    write.writerow([\"lng\", \"lat\"])\n",
    "    for coords in all_coords:\n",
    "        write.writerow(coords)  "
   ]
  },
  {
   "cell_type": "code",
   "execution_count": null,
   "metadata": {},
   "outputs": [],
   "source": []
  }
 ],
 "metadata": {
  "kernelspec": {
   "display_name": "Python 3.10.6 ('dploc')",
   "language": "python",
   "name": "python3"
  },
  "language_info": {
   "codemirror_mode": {
    "name": "ipython",
    "version": 3
   },
   "file_extension": ".py",
   "mimetype": "text/x-python",
   "name": "python",
   "nbconvert_exporter": "python",
   "pygments_lexer": "ipython3",
   "version": "3.10.6"
  },
  "orig_nbformat": 4,
  "vscode": {
   "interpreter": {
    "hash": "a53858bc130f285a8d180020ce6ca10b5db55c39abed0d67655aa30755c34d03"
   }
  }
 },
 "nbformat": 4,
 "nbformat_minor": 2
}
